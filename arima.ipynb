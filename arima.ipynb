{
 "cells": [
  {
   "cell_type": "code",
   "execution_count": 1,
   "metadata": {},
   "outputs": [],
   "source": [
    "import pandas as pd\n",
    "import matplotlib.pyplot as plt\n",
    "import seaborn as sns\n",
    "import numpy as np\n",
    "pd.options.display.float_format = '{:.4f}'.format\n",
    "from itertools import combinations\n",
    "from sklearn.metrics import mean_squared_error,r2_score,root_mean_squared_error\n",
    "from statsmodels.tsa.stattools import adfuller\n",
    "from statsmodels.tsa.arima.model import ARIMA as ARIMA\n",
    "import statsmodels.api as sm\n",
    "import statsmodels.tsa.api as smt\n",
    "import math\n",
    "import warnings\n",
    "from statsmodels.tools.sm_exceptions import ConvergenceWarning\n",
    "warnings.simplefilter('ignore', ConvergenceWarning)\n",
    "# Load the data\n",
    "\n",
    "path='Datasets/GPM_3IMERGDL_06_precipitationCal.20000601-20230531.algeria.csv'\n",
    "data = pd.read_csv('./{} '.format(path))\n",
    "list_of_column_names = []\n",
    "for row in data:\n",
    "    # adding the first row\n",
    "    list_of_column_names.append(row)\n",
    " \n",
    "    # breaking the loop after the first iteration itself\n",
    "\n",
    "#function that test dataset stationarity by plotting rolling mean and standard deviation and perform augmented Dickey-Fuller test\n",
    "\n",
    "def stationarity_test(timeseries):\n",
    "    #Determing rolling statistics\n",
    "    rolling_mean = timeseries.rolling(window=365).mean()\n",
    "    rolling_std = timeseries.rolling(window=365).std()\n",
    "\n",
    "    #Plot rolling statistics:\n",
    "    plt.figure(figsize=(15,5))\n",
    "    original = plt.plot(timeseries, color='blue',label='Original')\n",
    "    mean = plt.plot(rolling_mean, color='red', label='Rolling Mean')\n",
    "    standard_deviation = plt.plot(rolling_std, color='black', label = 'Rolling Std')\n",
    "    plt.legend(loc='best')\n",
    "    plt.title('Rolling Mean & Standard Deviation')\n",
    "    plt.show(block=False)\n",
    "\n",
    "    #Perform augmented Dickey-Fuller test:\n",
    "    print('Results of Dickey-Fuller Test:')\n",
    "    dickeyFuller_test = adfuller(timeseries, autolag='AIC')\n",
    "    dickeyFuller_output = pd.Series(dickeyFuller_test[0:4], index=['Test Statistic','p-value','#Lags Used','Number of Observations Used'])\n",
    "    for key,value in dickeyFuller_test[4].items():\n",
    "        dickeyFuller_output['Critical Value (%s)'%key] = value\n",
    "    print(dickeyFuller_output)\n",
    "\n",
    "\n",
    "#function that plots the autocorrelation and partial autocorrelation of the time series\n",
    "def stationarity_test_plot(y, lags=None, figsize=(12, 7), style='bmh'):\n",
    "    if not isinstance(y, pd.Series):\n",
    "        y = pd.Series(y)\n",
    "        \n",
    "    with plt.style.context(style):    \n",
    "        fig = plt.figure(figsize=figsize)\n",
    "        layout = (2, 2)\n",
    "        ts_ax = plt.subplot2grid(layout, (0, 0), colspan=2)\n",
    "        acf_ax = plt.subplot2grid(layout, (1, 0))\n",
    "        pacf_ax = plt.subplot2grid(layout, (1, 1))\n",
    "        \n",
    "        y.plot(ax=ts_ax)\n",
    "        p_value = sm.tsa.stattools.adfuller(y)[1]\n",
    "        ts_ax.set_title('Time Series Analysis Plots\\n Dickey-Fuller: p={0:.4f}'.format(p_value))\n",
    "        smt.graphics.plot_acf(y, lags=lags, ax=acf_ax)\n",
    "        smt.graphics.plot_pacf(y, lags=lags, ax=pacf_ax)\n",
    "        plt.tight_layout()\n",
    "\n",
    "\n"
   ]
  },
  {
   "cell_type": "code",
   "execution_count": null,
   "metadata": {},
   "outputs": [],
   "source": [
    "\n",
    "# Data architecture\n",
    "\n",
    "data.info()\n"
   ]
  },
  {
   "cell_type": "code",
   "execution_count": null,
   "metadata": {},
   "outputs": [],
   "source": [
    "# Show the data\n",
    "\n",
    "data.head(-1)\n"
   ]
  },
  {
   "cell_type": "code",
   "execution_count": null,
   "metadata": {},
   "outputs": [],
   "source": [
    "\n",
    "# Check for NULL values\n",
    "\n",
    "sns.heatmap(data.isnull(),cmap = 'magma',cbar = False)\n"
   ]
  },
  {
   "cell_type": "code",
   "execution_count": null,
   "metadata": {},
   "outputs": [],
   "source": [
    "# Data description\n",
    "\n",
    "data.describe()"
   ]
  },
  {
   "cell_type": "code",
   "execution_count": null,
   "metadata": {},
   "outputs": [],
   "source": [
    "# Converting the datatype of the Day column to datetime datatype and setting it as the index of the dataset\n",
    "\n",
    "data['day'] = pd.to_datetime(data['time'])\n",
    "data = data.drop(columns = 'time')\n",
    "data = data.set_index('day')\n",
    "\n",
    "# Renaming the column Month to Date and mean_TRMM_3B42RT_Daily_7_precipitation to precipitation as well.\n",
    "\n",
    "data = data.rename(columns = {'{}'.format(list_of_column_names[1]):'precipitation'})\n",
    "data.head(-1)"
   ]
  },
  {
   "cell_type": "code",
   "execution_count": null,
   "metadata": {},
   "outputs": [],
   "source": [
    "# use moving average method to smooth data\n",
    "data['moving_average'] = data['precipitation'].rolling(window=3,min_periods=0).mean()\n",
    "\n",
    "# plot the difference between original data and smoothed data\n",
    "fig,ax = plt.subplots(nrows = 1,ncols = 1,figsize = (15,5))\n",
    "\n",
    "plt.subplot(1,1,1)\n",
    "plt.plot(data['precipitation'],label = 'Original Data')\n",
    "plt.plot(data['moving_average'],label = 'Smoothed Data')\n",
    "plt.xlabel('Time')\n",
    "plt.ylabel('Precipitation (mm per day)')\n",
    "plt.legend(loc=\"upper left\")\n",
    "plt.title('Original Data / Smoothed Data Comparison')"
   ]
  },
  {
   "cell_type": "code",
   "execution_count": null,
   "metadata": {},
   "outputs": [],
   "source": [
    "# plot seasonal decomposition (original , trend, seasonal, residual) to check the trend and seasonality of the data and to check if the data is stationary or not\n",
    "\n",
    "plt.figure(figsize = (15,5))\n",
    "data['moving_average'].plot()\n",
    "decomposition = sm.tsa.seasonal_decompose(data['moving_average'],period=365).plot()\n",
    "plt.show()\n"
   ]
  },
  {
   "cell_type": "code",
   "execution_count": null,
   "metadata": {},
   "outputs": [],
   "source": [
    "# test if data is stationary or not\n",
    "stationarity_test(data['moving_average'])\n",
    "\n",
    "#plot acf and pacf to chose teh right parametres for ARIMA model\n",
    "stationarity_test_plot(data['moving_average'],lags=50)\n"
   ]
  },
  {
   "cell_type": "markdown",
   "metadata": {},
   "source": [
    "p-value is < 0.05 & Critical Value (5%) is > test static so we conclude that the data is stationary\n"
   ]
  },
  {
   "cell_type": "code",
   "execution_count": null,
   "metadata": {},
   "outputs": [],
   "source": [
    "\n",
    "#implementing arima model to our smoothed data with parameters p=2,d=0,q=1 that are brought from acf and pacf graphs\n",
    "p=2\n",
    "d=0\n",
    "q=2\n",
    "arima_model = ARIMA(data['moving_average'],order = (p,d,q))\n",
    "arima_model_fit = arima_model.fit()\n",
    "print(arima_model_fit.summary())\n",
    "\n",
    "#devide the data into train and test set \n",
    "\n",
    "testSize=730  # you can chose forecasting for 1 year (365), 2 years (730) or 3 years(1095)\n",
    "size = int(len(data['moving_average']) - testSize)\n",
    "train, test = data['moving_average'][:size], data['moving_average'][size:]\n",
    "\n",
    "print('\\t ARIMA MODEL : In- Sample Forecasting \\n')\n",
    "\n",
    "#start forecasting\n",
    "\n",
    "training_data  = [x for x in train]\n",
    "predicted_list = []\n",
    "for t in range(len(test)):\n",
    "    \n",
    "    arima_model = ARIMA(training_data, order=(p,d,q))\n",
    "    arima_model_fit = arima_model.fit()\n",
    "    output = arima_model_fit.forecast()\n",
    "    predicted_value = output[0]\n",
    "    predicted_list.append(float(predicted_value))\n",
    "    original_value = test[t]\n",
    "    training_data.append(original_value)\n",
    "    print('predicted value= %f, expected value= %f' % (predicted_value, original_value))\n"
   ]
  },
  {
   "cell_type": "code",
   "execution_count": null,
   "metadata": {},
   "outputs": [],
   "source": [
    "#plot the orginal and predicted values\n",
    "\n",
    "predictions_series = pd.Series(predicted_list, index = test.index)\n",
    "fig,ax = plt.subplots(nrows = 1,ncols = 1,figsize = (15,5))\n",
    "\n",
    "plt.subplot(1,1,1)\n",
    "plt.plot(data['moving_average'][size:len(data)],label = 'Original Precipitation Values')\n",
    "plt.plot(predictions_series,label = 'Predicted Precpitation Values')\n",
    "plt.xlabel('Time')\n",
    "plt.ylabel('Precipitation (mm per day)')\n",
    "plt.legend(loc=\"upper left\")\n",
    "plt.title('ARIMA Model ('+ str(p)+' '+ str(d)+' '+ str(q)+') With Data Smoothing:'+ str(testSize) +' days ('+ str(int(testSize/365)) +' years)  In-Sample  Forecasting')\n",
    "plt.show()\n",
    "# print succes scores\n",
    "\n",
    "\n",
    "RMSE = math.sqrt(mean_squared_error(test,predicted_list))\n",
    "R2 = r2_score(test, predicted_list)\n",
    "print('Test RMSE: %.4f' % RMSE)\n",
    "print('r2 score: %.4f'% R2)"
   ]
  }
 ],
 "metadata": {
  "kernelspec": {
   "display_name": "Python 3",
   "language": "python",
   "name": "python3"
  },
  "language_info": {
   "codemirror_mode": {
    "name": "ipython",
    "version": 3
   },
   "file_extension": ".py",
   "mimetype": "text/x-python",
   "name": "python",
   "nbconvert_exporter": "python",
   "pygments_lexer": "ipython3",
   "version": "3.12.2"
  }
 },
 "nbformat": 4,
 "nbformat_minor": 2
}
